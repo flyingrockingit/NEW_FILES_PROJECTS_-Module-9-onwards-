{
  "nbformat": 4,
  "nbformat_minor": 0,
  "metadata": {
    "colab": {
      "provenance": [],
      "authorship_tag": "ABX9TyPTB2yw56C/87kjbdZEyZ3P",
      "include_colab_link": true
    },
    "kernelspec": {
      "name": "python3",
      "display_name": "Python 3"
    },
    "language_info": {
      "name": "python"
    }
  },
  "cells": [
    {
      "cell_type": "markdown",
      "metadata": {
        "id": "view-in-github",
        "colab_type": "text"
      },
      "source": [
        "<a href=\"https://colab.research.google.com/github/flyingrockingit/NEW_FILES_PROJECTS_-Module-9-onwards-/blob/main/Introduction_to_Pandas.ipynb\" target=\"_parent\"><img src=\"https://colab.research.google.com/assets/colab-badge.svg\" alt=\"Open In Colab\"/></a>"
      ]
    },
    {
      "cell_type": "code",
      "execution_count": 1,
      "metadata": {
        "colab": {
          "base_uri": "https://localhost:8080/"
        },
        "id": "H-g6Nta9gSFO",
        "outputId": "c52ff2fe-0fdc-439a-999e-404e347610cc"
      },
      "outputs": [
        {
          "output_type": "stream",
          "name": "stdout",
          "text": [
            "       name  score  attempts qualify\n",
            "a    Olivia   12.4         1     yes\n",
            "b      Liam    NaN         3      no\n",
            "c    Sophia   20.0         4      no\n",
            "d      Noah   15.0         2     yes\n",
            "e  Isabella   12.0         1     yes\n",
            "f     Mason   15.5         5      no\n",
            "g       Ava   19.0         2      no\n",
            "h    Elijah    NaN         3     yes\n",
            "i       Mia   10.0         6      no\n",
            "j     Lucas    9.0         7     yes\n"
          ]
        }
      ],
      "source": [
        "import pandas as pd\n",
        "import numpy as np\n",
        "\n",
        "exam_data = {\n",
        "    'name': ['Olivia', 'Liam', 'Sophia', 'Noah', 'Isabella', 'Mason', 'Ava', 'Elijah', 'Mia', 'Lucas'],\n",
        "    'score': [12.4, np.nan, 20, 15, 12, 15.5, 19, np.nan, 10, 9],\n",
        "    'attempts': [1, 3, 4, 2, 1, 5, 2, 3, 6, 7],\n",
        "    'qualify': ['yes', 'no', 'no', 'yes', 'yes', 'no', 'no', 'yes', 'no', 'yes']\n",
        "}\n",
        "\n",
        "labels = ['a', 'b', 'c', 'd', 'e', 'f', 'g', 'h', 'i', 'j']\n",
        "\n",
        "df = pd.DataFrame(exam_data, index=labels)\n",
        "print (df)"
      ]
    },
    {
      "cell_type": "code",
      "source": [
        "df.info()"
      ],
      "metadata": {
        "colab": {
          "base_uri": "https://localhost:8080/"
        },
        "id": "QJ5t9KNokHnG",
        "outputId": "3e9bf28d-a6db-413c-e203-b202d79e4ea3"
      },
      "execution_count": 2,
      "outputs": [
        {
          "output_type": "stream",
          "name": "stdout",
          "text": [
            "<class 'pandas.core.frame.DataFrame'>\n",
            "Index: 10 entries, a to j\n",
            "Data columns (total 4 columns):\n",
            " #   Column    Non-Null Count  Dtype  \n",
            "---  ------    --------------  -----  \n",
            " 0   name      10 non-null     object \n",
            " 1   score     8 non-null      float64\n",
            " 2   attempts  10 non-null     int64  \n",
            " 3   qualify   10 non-null     object \n",
            "dtypes: float64(1), int64(1), object(2)\n",
            "memory usage: 700.0+ bytes\n"
          ]
        }
      ]
    }
  ]
}