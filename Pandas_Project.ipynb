{
  "nbformat": 4,
  "nbformat_minor": 0,
  "metadata": {
    "colab": {
      "provenance": [],
      "authorship_tag": "ABX9TyMRLldoh8LoAss1ro3VAHoj",
      "include_colab_link": true
    },
    "kernelspec": {
      "name": "python3",
      "display_name": "Python 3"
    },
    "language_info": {
      "name": "python"
    }
  },
  "cells": [
    {
      "cell_type": "markdown",
      "metadata": {
        "id": "view-in-github",
        "colab_type": "text"
      },
      "source": [
        "<a href=\"https://colab.research.google.com/github/flyingrockingit/NEW_FILES_PROJECTS_-Module-9-onwards-/blob/main/Pandas_Project.ipynb\" target=\"_parent\"><img src=\"https://colab.research.google.com/assets/colab-badge.svg\" alt=\"Open In Colab\"/></a>"
      ]
    },
    {
      "cell_type": "code",
      "source": [
        "import pandas as pd\n",
        "import numpy as np"
      ],
      "metadata": {
        "id": "VJsQcqxKAIg3"
      },
      "execution_count": 3,
      "outputs": []
    },
    {
      "cell_type": "code",
      "source": [
        "np.random.seed(42)\n",
        "\n",
        "names = ['Alice', 'Ben', 'Clara', 'David', 'Eva', 'Frank', 'Grace', 'Henry', 'Ivy', 'Jack', 'Kara', 'Leo']\n",
        "heights = np.random.randint(150, 201, size=12)\n",
        "weights = np.random.randint(50, 101, size=12)\n",
        "bmi = np.round(weights / (heights / 100) ** 2, 1)\n",
        "\n",
        "def categorize_bmi(b):\n",
        "    if b < 18.5:\n",
        "        return 'Underweight'\n",
        "    elif b < 25:\n",
        "        return 'Normal'\n",
        "    elif b < 30:\n",
        "        return 'Overweight'\n",
        "    else:\n",
        "        return 'Obese'\n",
        "\n",
        "bmi_category = [categorize_bmi(b) for b in bmi]\n",
        "\n",
        "roman_labels = ['I', 'II', 'III', 'IV', 'V', 'VI', 'VII', 'VIII', 'IX', 'X', 'XI', 'XII']\n",
        "\n",
        "people_data = {\n",
        "    'Name': names,\n",
        "    'Height (cm)': heights,\n",
        "    'Weight (kg)': weights,\n",
        "    'BMI': bmi,\n",
        "    'BMI Category': bmi_category\n",
        "}\n",
        "\n",
        "df = pd.DataFrame(people_data, index=roman_labels)\n",
        "\n",
        "pd.set_option('display.max_columns', None)\n",
        "print(df)"
      ],
      "metadata": {
        "colab": {
          "base_uri": "https://localhost:8080/"
        },
        "id": "g7-yQsjDDLx1",
        "outputId": "227212c5-eb43-472a-897d-a0a608287449"
      },
      "execution_count": 4,
      "outputs": [
        {
          "output_type": "stream",
          "name": "stdout",
          "text": [
            "       Name  Height (cm)  Weight (kg)   BMI BMI Category\n",
            "I     Alice          188           85  24.0       Normal\n",
            "II      Ben          178           89  28.1   Overweight\n",
            "III   Clara          164           73  27.1   Overweight\n",
            "IV    David          192           52  14.1  Underweight\n",
            "V       Eva          157           71  28.8   Overweight\n",
            "VI    Frank          170           51  17.6  Underweight\n",
            "VII   Grace          188           73  20.7       Normal\n",
            "VIII  Henry          168           93  33.0        Obese\n",
            "IX      Ivy          172           79  26.7   Overweight\n",
            "X      Jack          160           87  34.0        Obese\n",
            "XI     Kara          160           51  19.9       Normal\n",
            "XII     Leo          173           70  23.4       Normal\n"
          ]
        }
      ]
    }
  ]
}